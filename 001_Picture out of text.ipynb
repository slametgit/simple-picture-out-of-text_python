{
 "cells": [
  {
   "cell_type": "markdown",
   "id": "02952d90",
   "metadata": {},
   "source": [
    "Hi, here is some Python exercise as the title- making text kind of picture from a text. Thats it.\n",
    "\n",
    "I have created this simple fox-looking text (or symbols):"
   ]
  },
  {
   "cell_type": "code",
   "execution_count": 1,
   "id": "c2348acf",
   "metadata": {},
   "outputs": [
    {
     "name": "stdout",
     "output_type": "stream",
     "text": [
      "\n",
      "    |\\    /|\n",
      "    | \\__/ |\n",
      "    \\ _  _ /\n",
      "     \\    /\n",
      "      \\__/\n",
      "\n"
     ]
    }
   ],
   "source": [
    "print('''\n",
    "    |\\    /|\n",
    "    | \\__/ |\n",
    "    \\ _  _ /\n",
    "     \\    /\n",
    "      \\__/\n",
    "''')"
   ]
  },
  {
   "cell_type": "markdown",
   "id": "e928955c",
   "metadata": {},
   "source": [
    "...\n",
    "\n",
    "and making it a bit more troublesome-"
   ]
  },
  {
   "cell_type": "code",
   "execution_count": 2,
   "id": "646b1e4f",
   "metadata": {},
   "outputs": [
    {
     "name": "stdout",
     "output_type": "stream",
     "text": [
      "Username: Alpha\n",
      "Passcode: 0511\n",
      "Welcome,  Alpha . \n",
      "    |\\    /|\n",
      "    | \\__/ |\n",
      "    \\ _  _ /\n",
      "     \\    /\n",
      "      \\__/\n",
      "        \n"
     ]
    }
   ],
   "source": [
    "input1 = '0511'\n",
    "usrname = str(input(\"Username: \"))\n",
    "\n",
    "input_user = True\n",
    "while input_user:\n",
    "    #input for password\n",
    "    psswd = str(input(\"Passcode: \"))\n",
    "\n",
    "    #right password\n",
    "    if psswd == input1:\n",
    "        print(\"Welcome, \",usrname,\".\",'''\n",
    "    |\\    /|\n",
    "    | \\__/ |\n",
    "    \\ _  _ /\n",
    "     \\    /\n",
    "      \\__/\n",
    "        ''')\n",
    "        input_user = False\n",
    "    \n",
    "    elif psswd != input1:\n",
    "        print('Wrong passcode.')\n",
    "        input_user = True\n",
    "\n",
    "#     Optional for showing question instead of to continue, but the input_user before need to be deleted to replace this.\n",
    "#     answer = input(\"Try again? \").lower()\n",
    "#     while True:\n",
    "#         if answer == 'yes':\n",
    "#             input_user = True\n",
    "#             break\n",
    "#         elif answer == 'no':\n",
    "#             input_user = False\n",
    "#             break\n",
    "#         else:\n",
    "#             answer = input('Incorrect option. Type \"YES\" to try again or \"NO\" to leave\": ').lower()"
   ]
  },
  {
   "cell_type": "markdown",
   "id": "bf9e835d",
   "metadata": {},
   "source": [
    "Thinking about it..\n",
    "\n",
    "I want to try to make the input hidden-"
   ]
  },
  {
   "cell_type": "code",
   "execution_count": 4,
   "id": "d8e4155d",
   "metadata": {},
   "outputs": [
    {
     "name": "stdout",
     "output_type": "stream",
     "text": [
      "Code name: wolfie\n",
      "Passcode: ········\n",
      "Wrong passcode.\n",
      "Passcode: ········\n",
      "Welcome back, wolfie . \n",
      "    |\\    /|\n",
      "    | \\__/ |\n",
      "    \\ _  _ /\n",
      "     \\    /\n",
      "      \\__/\n",
      "        \n"
     ]
    }
   ],
   "source": [
    "#they say i need to import getpass instead, lets try\n",
    "# import getpass\n",
    "#its work without import- *update2: it need import\n",
    "\n",
    "input1 = '0511'\n",
    "usrname = str(input(\"Username: \"))\n",
    "\n",
    "input_user = True\n",
    "while input_user:\n",
    "    #input for password\n",
    "    psswd = str(getpass.getpass(\"Passcode: \"))\n",
    "\n",
    "    #right password\n",
    "    if psswd == input1:\n",
    "        print(\"Welcome, \",usrname,\".\",'''\n",
    "    |\\    /|\n",
    "    | \\__/ |\n",
    "    \\ _  _ /\n",
    "     \\    /\n",
    "      \\__/\n",
    "        ''')\n",
    "        input_user = False\n",
    "    \n",
    "    elif psswd != input1:\n",
    "        print('Wrong passcode.')\n",
    "        input_user = True"
   ]
  },
  {
   "cell_type": "markdown",
   "id": "54e8893f",
   "metadata": {},
   "source": [
    "Nice."
   ]
  },
  {
   "cell_type": "markdown",
   "id": "b2fed752",
   "metadata": {},
   "source": [
    "And improve it again-"
   ]
  },
  {
   "cell_type": "code",
   "execution_count": 10,
   "id": "af109530",
   "metadata": {},
   "outputs": [
    {
     "name": "stdout",
     "output_type": "stream",
     "text": [
      "\n",
      " Welcome back, ';' . \n",
      "        \n",
      "    |\\    /|\n",
      "    | \\__/ |\n",
      "    \\ _  _ /\n",
      "     \\    /\n",
      "      \\__/\n",
      "    -Wolfie-\n",
      "    \n",
      "Go to the next project.\n",
      "        \n"
     ]
    }
   ],
   "source": [
    "import getpass\n",
    "from IPython.display import clear_output\n",
    "import time \n",
    "\n",
    "input1 = '0511'\n",
    "usrname = str(input(\"Your codename: \"))\n",
    "\n",
    "input_user = True\n",
    "while input_user:\n",
    "    #input for password\n",
    "    psswd = str(getpass.getpass(\"Passcode: \"))\n",
    "\n",
    "    #right password\n",
    "    if psswd == input1:\n",
    "        clear_output(wait=True); print('Log in success.'); time.sleep(1)\n",
    "        clear_output(wait=True); print(\"Welcome back,\",usrname,\".\",'''\n",
    "        \n",
    "    |\\    /|\n",
    "    | \\__/ |\n",
    "    \\ _  _ /\n",
    "     \\    /\n",
    "      \\__/\n",
    "    -Wolfie-\n",
    "    \n",
    "Go to the next project.\n",
    "        '''); time.sleep(3)\n",
    "        input_user = False\n",
    "        # put next define here\n",
    "    \n",
    "    #wrong password\n",
    "    elif psswd != input1:\n",
    "        clear_output(wait=True); print('Wrong passcode.'); time.sleep(1)\n",
    "        input_user = True\n",
    "        \n",
    "# optional\n",
    "\n",
    "# while True:\n",
    "# x = ord(input('Enter an alphabet:')[0])\n",
    "# if x in range(ord('0'), ord('9')):\n",
    "#     print('Numbers not allowed')\n",
    "#     continue\n",
    "# if x not in range(ord('A'), ord('z')):\n",
    "#     print('Symbols not allowed')\n",
    "#     continue\n",
    "# if chr(x) in 'aeiou':\n",
    "#     print('{} is a vowel'.format(chr(x)))\n",
    "# elif chr(x) in 'AEIOU':\n",
    "#     print('{} is a vowel in CAPS'.format(chr(x)))\n",
    "# else:\n",
    "#     print('{} is a consonant'.format(chr(x)))\n",
    "# continue\n",
    "# We select numbers, deselect whatever character except letters and then does the job."
   ]
  },
  {
   "cell_type": "code",
   "execution_count": null,
   "id": "10c140a0",
   "metadata": {},
   "outputs": [],
   "source": []
  }
 ],
 "metadata": {
  "kernelspec": {
   "display_name": "Python 3 (ipykernel)",
   "language": "python",
   "name": "python3"
  },
  "language_info": {
   "codemirror_mode": {
    "name": "ipython",
    "version": 3
   },
   "file_extension": ".py",
   "mimetype": "text/x-python",
   "name": "python",
   "nbconvert_exporter": "python",
   "pygments_lexer": "ipython3",
   "version": "3.9.7"
  }
 },
 "nbformat": 4,
 "nbformat_minor": 5
}
